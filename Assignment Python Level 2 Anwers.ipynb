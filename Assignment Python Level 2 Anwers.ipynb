{
 "cells": [
  {
   "cell_type": "code",
   "execution_count": 2,
   "id": "3424b644",
   "metadata": {},
   "outputs": [
    {
     "name": "stdout",
     "output_type": "stream",
     "text": [
      "0\n",
      "1\n",
      "2\n",
      "3\n",
      "4\n",
      "5\n",
      "6\n",
      "7\n",
      "8\n",
      "9\n",
      "10\n",
      "11\n",
      "12\n",
      "13\n",
      "14\n",
      "15\n",
      "16\n",
      "17\n",
      "18\n",
      "19\n"
     ]
    }
   ],
   "source": [
    "for temp in range(0,20):\n",
    "    print(temp)"
   ]
  },
  {
   "cell_type": "code",
   "execution_count": 4,
   "id": "63aa3afc",
   "metadata": {},
   "outputs": [
    {
     "name": "stdout",
     "output_type": "stream",
     "text": [
      "10\n",
      "11\n",
      "12\n",
      "13\n",
      "14\n",
      "15\n",
      "16\n",
      "17\n",
      "18\n",
      "19\n"
     ]
    }
   ],
   "source": [
    "for t in range(10,20):\n",
    "    print(t)\n",
    "    "
   ]
  },
  {
   "cell_type": "code",
   "execution_count": 6,
   "id": "c8fc926a",
   "metadata": {},
   "outputs": [
    {
     "name": "stdout",
     "output_type": "stream",
     "text": [
      "Number of item in the List2:7\n"
     ]
    }
   ],
   "source": [
    "Lst=[10, 20, 14, 55, 43, 87, 76]\n",
    "print(\"Number of item in the List2:\"+str(len(Lst)))"
   ]
  },
  {
   "cell_type": "code",
   "execution_count": 9,
   "id": "3d6dff55",
   "metadata": {},
   "outputs": [
    {
     "name": "stdout",
     "output_type": "stream",
     "text": [
      "A\n",
      "r\n",
      "t\n",
      "i\n",
      "f\n",
      "i\n",
      "c\n",
      "i\n",
      "a\n",
      "l\n",
      " \n",
      "I\n",
      "n\n",
      "t\n",
      "e\n",
      "l\n",
      "l\n",
      "i\n",
      "g\n",
      "e\n",
      "n\n",
      "c\n",
      "e\n"
     ]
    }
   ],
   "source": [
    "strValue=\"Artificial Intelligence\"\n",
    "for i in range(len(strValue)):\n",
    "    print(strValue[i])"
   ]
  },
  {
   "cell_type": "code",
   "execution_count": 10,
   "id": "6b4f329b",
   "metadata": {},
   "outputs": [
    {
     "name": "stdout",
     "output_type": "stream",
     "text": [
      "(1, 'Welcome', 2, 'Hope')\n"
     ]
    }
   ],
   "source": [
    "myTuple=(1, 'Welcome', 2, 'Hope')\n",
    "print(myTuple)"
   ]
  },
  {
   "cell_type": "code",
   "execution_count": 13,
   "id": "19c28732",
   "metadata": {},
   "outputs": [
    {
     "name": "stdout",
     "output_type": "stream",
     "text": [
      "(0, 1, 2, 3) ,('python', 'HOPE')\n"
     ]
    }
   ],
   "source": [
    "tuple1=(0, 1, 2, 3)\n",
    "tuple2= ('python', 'HOPE')\n",
    "print(tuple1,\",\"+str(tuple2))"
   ]
  },
  {
   "cell_type": "code",
   "execution_count": 16,
   "id": "20df14df",
   "metadata": {},
   "outputs": [
    {
     "name": "stdout",
     "output_type": "stream",
     "text": [
      "20 is even\n",
      "10 is even\n",
      "16 is even\n",
      "276 is even\n",
      "188 is even\n"
     ]
    }
   ],
   "source": [
    "num=(20,10,16,19,25,1,276,188)\n",
    "for i in range(len(num)):\n",
    "    if(num[i]%2==0):\n",
    "        print(str(num[i])+\" is even\")"
   ]
  },
  {
   "cell_type": "code",
   "execution_count": 17,
   "id": "3665aa0a",
   "metadata": {},
   "outputs": [
    {
     "name": "stdout",
     "output_type": "stream",
     "text": [
      "19 is odd\n",
      "25 is odd\n",
      "1 is odd\n"
     ]
    }
   ],
   "source": [
    "num=(20,10,16,19,25,1,276,188)\n",
    "for i in range(len(num)):\n",
    "    if(num[i]%2>0):\n",
    "        print(str(num[i])+\" is odd\")"
   ]
  },
  {
   "cell_type": "code",
   "execution_count": null,
   "id": "3730c5e9",
   "metadata": {},
   "outputs": [],
   "source": []
  }
 ],
 "metadata": {
  "kernelspec": {
   "display_name": "Python 3 (ipykernel)",
   "language": "python",
   "name": "python3"
  },
  "language_info": {
   "codemirror_mode": {
    "name": "ipython",
    "version": 3
   },
   "file_extension": ".py",
   "mimetype": "text/x-python",
   "name": "python",
   "nbconvert_exporter": "python",
   "pygments_lexer": "ipython3",
   "version": "3.9.12"
  }
 },
 "nbformat": 4,
 "nbformat_minor": 5
}
