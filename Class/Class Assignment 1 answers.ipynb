{
 "cells": [
  {
   "cell_type": "code",
   "execution_count": 18,
   "id": "a838c214",
   "metadata": {},
   "outputs": [],
   "source": [
    "class SubfieldsInAI():\n",
    "    def Subfields():\n",
    "        for temp in fields:\n",
    "            print(temp)\n",
    "    \n"
   ]
  },
  {
   "cell_type": "code",
   "execution_count": 19,
   "id": "679dc261",
   "metadata": {},
   "outputs": [
    {
     "name": "stdout",
     "output_type": "stream",
     "text": [
      "Sub-fields in AI are:\n",
      "Machine Learning\n",
      "Neural Networks\n",
      "Vision\n",
      "Robotics\n",
      "Speech Processing\n",
      "Natural Language Processing\n"
     ]
    }
   ],
   "source": [
    "fields=[\"Machine Learning\",\"Neural Networks\",\"Vision\",\"Robotics\",\"Speech Processing\",\"Natural Language Processing\"]\n",
    "print(\"Sub-fields in AI are:\")\n",
    "SubfieldsInAI.Subfields()   "
   ]
  },
  {
   "cell_type": "code",
   "execution_count": 47,
   "id": "6815d249",
   "metadata": {},
   "outputs": [],
   "source": [
    "class MultiplefunctionClass():\n",
    "    def OddEven(num):\n",
    "        if(num%2==0):\n",
    "            return str(num)+\" is Even number\"\n",
    "        else:\n",
    "            return str(num)+\" is Odd number\"\n",
    "        \n",
    "    def Eligible(gender,age):\n",
    "        if((gender.upper()==\"MALE\" and age>=21) or(gender.upper()==\"FEMALE\" and age>=18)):\n",
    "               return \"Eligible\"\n",
    "        else:\n",
    "                return \"Not Eligible\"\n",
    "\n",
    "    def percentage(lst):\n",
    "    \n",
    "        total=0\n",
    "        for temp in lst:\n",
    "            total=total+temp\n",
    "    \n",
    "        return total\n",
    "    \n",
    "    def trianglearea(height,breadth):\n",
    "        return (height*breadth)/2\n",
    "        \n",
    "    def TriangePermeter(height1,height2,breadth):\n",
    "        return (height1+height2+breadth)\n",
    "   \n",
    "       "
   ]
  },
  {
   "cell_type": "code",
   "execution_count": 38,
   "id": "e807a532",
   "metadata": {},
   "outputs": [
    {
     "name": "stdout",
     "output_type": "stream",
     "text": [
      "Enter a number15\n",
      "15 is Odd number\n"
     ]
    }
   ],
   "source": [
    "print(MultiplefunctionClass.OddEven(int(input(\"Enter a number\"))))"
   ]
  },
  {
   "cell_type": "code",
   "execution_count": 40,
   "id": "d05cd02a",
   "metadata": {},
   "outputs": [
    {
     "name": "stdout",
     "output_type": "stream",
     "text": [
      "Your Gendermale\n",
      "your age:28\n",
      "Eligible\n"
     ]
    }
   ],
   "source": [
    "print(MultiplefunctionClass.Eligible(input(\"Your Gender\"),int(input(\"your age:\"))))"
   ]
  },
  {
   "cell_type": "code",
   "execution_count": 44,
   "id": "b6bdc1d6",
   "metadata": {},
   "outputs": [
    {
     "name": "stdout",
     "output_type": "stream",
     "text": [
      "Enter the subject1:98\n",
      "Enter the subject2:87\n",
      "Enter the subject3:95\n",
      "Enter the subject4:95\n",
      "Enter the subject5:95\n",
      "Total:470\n",
      "Percentage:94.0\n"
     ]
    }
   ],
   "source": [
    "data = []\n",
    "for i in range(0, 5):\n",
    "    x = int(input('Enter the subject'+str(i+1)+':'))\n",
    "    data.append(x)\n",
    "totalvalue=MultiplefunctionClass.percentage(data)\n",
    "print(\"Total:\"+str(totalvalue))\n",
    "print(\"Percentage:\"+str((totalvalue/500)*100))"
   ]
  },
  {
   "cell_type": "code",
   "execution_count": 48,
   "id": "d9995733",
   "metadata": {},
   "outputs": [
    {
     "name": "stdout",
     "output_type": "stream",
     "text": [
      "Enter height:45\n",
      "Enter Breadth:31\n",
      "Area of triangle:697.5\n"
     ]
    }
   ],
   "source": [
    "height=float(input(\"Enter height:\"))\n",
    "breadth=float(input(\"Enter Breadth:\"))\n",
    "print(\"Area of triangle:\"+str(MultiplefunctionClass.trianglearea(height,breadth)))\n"
   ]
  },
  {
   "cell_type": "code",
   "execution_count": 49,
   "id": "bb9cef8f",
   "metadata": {},
   "outputs": [
    {
     "name": "stdout",
     "output_type": "stream",
     "text": [
      "Enter height1:4\n",
      "Enter height2:4\n",
      "Enter Breadth:2\n",
      "Perimeter of triangle:10.0\n"
     ]
    }
   ],
   "source": [
    "height1=float(input(\"Enter height1:\"))\n",
    "height2=float(input(\"Enter height2:\"))\n",
    "breadth1=float(input(\"Enter Breadth:\"))\n",
    "print(\"Perimeter of triangle:\"+str(MultiplefunctionClass.TriangePermeter(height1,height2,breadth1)))"
   ]
  },
  {
   "cell_type": "code",
   "execution_count": null,
   "id": "7135f118",
   "metadata": {},
   "outputs": [],
   "source": []
  }
 ],
 "metadata": {
  "kernelspec": {
   "display_name": "Python 3 (ipykernel)",
   "language": "python",
   "name": "python3"
  },
  "language_info": {
   "codemirror_mode": {
    "name": "ipython",
    "version": 3
   },
   "file_extension": ".py",
   "mimetype": "text/x-python",
   "name": "python",
   "nbconvert_exporter": "python",
   "pygments_lexer": "ipython3",
   "version": "3.9.12"
  }
 },
 "nbformat": 4,
 "nbformat_minor": 5
}
