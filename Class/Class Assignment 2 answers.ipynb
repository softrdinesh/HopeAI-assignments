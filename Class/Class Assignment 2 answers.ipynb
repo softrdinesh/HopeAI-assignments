{
 "cells": [
  {
   "cell_type": "code",
   "execution_count": 1,
   "id": "ee277aff",
   "metadata": {},
   "outputs": [],
   "source": [
    "from CommonFunctions import CommonFunctions"
   ]
  },
  {
   "cell_type": "code",
   "execution_count": 3,
   "id": "e746f09c",
   "metadata": {},
   "outputs": [
    {
     "name": "stdout",
     "output_type": "stream",
     "text": [
      "Sub-fields in AI are:\n",
      "Machine Learning\n",
      "Neural Networks\n",
      "Vision\n",
      "Robotics\n",
      "Speech Processing\n",
      "Natural Language Processing\n"
     ]
    }
   ],
   "source": [
    "fields=[\"Machine Learning\",\"Neural Networks\",\"Vision\",\"Robotics\",\"Speech Processing\",\"Natural Language Processing\"]\n",
    "print(\"Sub-fields in AI are:\")\n",
    "CommonFunctions.Subfields(fields)"
   ]
  },
  {
   "cell_type": "code",
   "execution_count": 4,
   "id": "e0e22352",
   "metadata": {},
   "outputs": [
    {
     "name": "stdout",
     "output_type": "stream",
     "text": [
      "Enter a number16\n",
      "16 is Even number\n"
     ]
    }
   ],
   "source": [
    "print(CommonFunctions.OddEven(int(input(\"Enter a number\"))))"
   ]
  },
  {
   "cell_type": "code",
   "execution_count": 3,
   "id": "e570af45",
   "metadata": {},
   "outputs": [
    {
     "name": "stdout",
     "output_type": "stream",
     "text": [
      "Your Genderfemale\n",
      "your age:19\n",
      "Eligible\n"
     ]
    }
   ],
   "source": [
    "print(CommonFunctions.Eligible(input(\"Your Gender\"),int(input(\"your age:\"))))"
   ]
  },
  {
   "cell_type": "code",
   "execution_count": 2,
   "id": "8d84495e",
   "metadata": {},
   "outputs": [
    {
     "name": "stdout",
     "output_type": "stream",
     "text": [
      "Enter the subject1:98\n",
      "Enter the subject2:65\n",
      "Enter the subject3:89\n",
      "Enter the subject4:74\n",
      "Enter the subject5:85\n",
      "Total:98\n",
      "Percentage:19.6\n"
     ]
    }
   ],
   "source": [
    "data = []\n",
    "for i in range(0, 5):\n",
    "    x = int(input('Enter the subject'+str(i+1)+':'))\n",
    "    data.append(x)\n",
    "totalvalue=CommonFunctions.percentage(data)\n",
    "print(\"Total:\"+str(totalvalue))\n",
    "print(\"Percentage:\"+str((totalvalue/500)*100))"
   ]
  },
  {
   "cell_type": "code",
   "execution_count": 2,
   "id": "64382d88",
   "metadata": {},
   "outputs": [
    {
     "name": "stdout",
     "output_type": "stream",
     "text": [
      "Enter height:45\n",
      "Enter Breadth:47\n",
      "Area of triangle:1057.5\n"
     ]
    }
   ],
   "source": [
    "height=float(input(\"Enter height:\"))\n",
    "breadth=float(input(\"Enter Breadth:\"))\n",
    "print(\"Area of triangle:\"+str(CommonFunctions.trianglearea(height,breadth)))"
   ]
  },
  {
   "cell_type": "code",
   "execution_count": 3,
   "id": "44468fc5",
   "metadata": {},
   "outputs": [
    {
     "name": "stdout",
     "output_type": "stream",
     "text": [
      "Enter height1:4\n",
      "Enter height2:4\n",
      "Enter Breadth:2\n",
      "Perimeter of triangle:10.0\n"
     ]
    }
   ],
   "source": [
    "height1=float(input(\"Enter height1:\"))\n",
    "height2=float(input(\"Enter height2:\"))\n",
    "breadth1=float(input(\"Enter Breadth:\"))\n",
    "print(\"Perimeter of triangle:\"+str(CommonFunctions.TriangePermeter(height1,height2,breadth1)))"
   ]
  },
  {
   "cell_type": "code",
   "execution_count": null,
   "id": "ea35f3ec",
   "metadata": {},
   "outputs": [],
   "source": []
  }
 ],
 "metadata": {
  "kernelspec": {
   "display_name": "Python 3 (ipykernel)",
   "language": "python",
   "name": "python3"
  },
  "language_info": {
   "codemirror_mode": {
    "name": "ipython",
    "version": 3
   },
   "file_extension": ".py",
   "mimetype": "text/x-python",
   "name": "python",
   "nbconvert_exporter": "python",
   "pygments_lexer": "ipython3",
   "version": "3.9.12"
  }
 },
 "nbformat": 4,
 "nbformat_minor": 5
}
