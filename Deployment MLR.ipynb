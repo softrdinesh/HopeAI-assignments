{
 "cells": [
  {
   "cell_type": "code",
   "execution_count": 1,
   "id": "bb3d0cba",
   "metadata": {},
   "outputs": [
    {
     "name": "stderr",
     "output_type": "stream",
     "text": [
      "C:\\Users\\DINESH\\anaconda3\\lib\\site-packages\\sklearn\\base.py:450: UserWarning: X does not have valid feature names, but LinearRegression was fitted with feature names\n",
      "  warnings.warn(\n"
     ]
    }
   ],
   "source": [
    "import pickle\n",
    "loadedModel=pickle.load(open(\"final_Multiple_linear_model.sav\",'rb'))\n",
    "result=loadedModel.predict([[8545,655,66885,0,1]])"
   ]
  },
  {
   "cell_type": "code",
   "execution_count": 2,
   "id": "87d295ba",
   "metadata": {},
   "outputs": [
    {
     "data": {
      "text/plain": [
       "array([[51560.60802193]])"
      ]
     },
     "execution_count": 2,
     "metadata": {},
     "output_type": "execute_result"
    }
   ],
   "source": [
    "result"
   ]
  },
  {
   "cell_type": "code",
   "execution_count": null,
   "id": "097eb077",
   "metadata": {},
   "outputs": [],
   "source": []
  }
 ],
 "metadata": {
  "kernelspec": {
   "display_name": "Python 3 (ipykernel)",
   "language": "python",
   "name": "python3"
  },
  "language_info": {
   "codemirror_mode": {
    "name": "ipython",
    "version": 3
   },
   "file_extension": ".py",
   "mimetype": "text/x-python",
   "name": "python",
   "nbconvert_exporter": "python",
   "pygments_lexer": "ipython3",
   "version": "3.9.12"
  }
 },
 "nbformat": 4,
 "nbformat_minor": 5
}
