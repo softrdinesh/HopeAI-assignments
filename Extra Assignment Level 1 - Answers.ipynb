{
 "cells": [
  {
   "cell_type": "code",
   "execution_count": 1,
   "id": "29e5ecfa",
   "metadata": {},
   "outputs": [
    {
     "name": "stdout",
     "output_type": "stream",
     "text": [
      "HOPE AI\n"
     ]
    }
   ],
   "source": [
    "print(\"HOPE AI\")"
   ]
  },
  {
   "cell_type": "code",
   "execution_count": 3,
   "id": "6f858a4f",
   "metadata": {},
   "outputs": [
    {
     "name": "stdout",
     "output_type": "stream",
     "text": [
      "Enter your institute name:HOPE AI\n",
      "HOPE AI\n"
     ]
    }
   ],
   "source": [
    "instituteName=input(\"Enter your institute name:\")\n",
    "print(instituteName)"
   ]
  },
  {
   "cell_type": "code",
   "execution_count": 4,
   "id": "2e0c8a54",
   "metadata": {},
   "outputs": [
    {
     "name": "stdout",
     "output_type": "stream",
     "text": [
      "Enter your name:Dinesh\n",
      "Enter your age:34\n",
      "Enter your school name:HOPE AI\n",
      "Enter your degree:MCA\n"
     ]
    }
   ],
   "source": [
    "name=input(\"Enter your name:\")\n",
    "age=int(input(\"Enter your age:\"))\n",
    "schoolName=input(\"Enter your school name:\")\n",
    "degree=input(\"Enter your degree:\")"
   ]
  },
  {
   "cell_type": "code",
   "execution_count": 13,
   "id": "25bd8cd9",
   "metadata": {},
   "outputs": [
    {
     "name": "stdout",
     "output_type": "stream",
     "text": [
      "Add:77\n"
     ]
    }
   ],
   "source": [
    "a=43\n",
    "b=34\n",
    "print(\"Add=\"+str(a+b))"
   ]
  },
  {
   "cell_type": "code",
   "execution_count": 11,
   "id": "9a7a5911",
   "metadata": {},
   "outputs": [
    {
     "name": "stdout",
     "output_type": "stream",
     "text": [
      "Sub:9\n"
     ]
    }
   ],
   "source": [
    "print(\"Sub=\"+str(a-b))"
   ]
  },
  {
   "cell_type": "code",
   "execution_count": 16,
   "id": "357de692",
   "metadata": {},
   "outputs": [
    {
     "name": "stdout",
     "output_type": "stream",
     "text": [
      "Mul=6111\n"
     ]
    }
   ],
   "source": [
    "a=63\n",
    "b=97\n",
    "print(\"Mul=\"+str(a*b))"
   ]
  },
  {
   "cell_type": "code",
   "execution_count": 20,
   "id": "66b1d162",
   "metadata": {},
   "outputs": [
    {
     "name": "stdout",
     "output_type": "stream",
     "text": [
      "Float Div=2.4516129032258065\n"
     ]
    }
   ],
   "source": [
    "a=76\n",
    "b=31\n",
    "print(\"Float Div=\"+str(a/b))"
   ]
  },
  {
   "cell_type": "code",
   "execution_count": 23,
   "id": "04b11fa5",
   "metadata": {},
   "outputs": [
    {
     "name": "stdout",
     "output_type": "stream",
     "text": [
      "Floor Div:2\n"
     ]
    }
   ],
   "source": [
    "print(\"Floor Div:\"+str(a//b))"
   ]
  },
  {
   "cell_type": "code",
   "execution_count": 24,
   "id": "105983cc",
   "metadata": {},
   "outputs": [
    {
     "name": "stdout",
     "output_type": "stream",
     "text": [
      "Modulo=14\n"
     ]
    }
   ],
   "source": [
    "print(\"Modulo=\"+str(a%b))"
   ]
  },
  {
   "cell_type": "code",
   "execution_count": 25,
   "id": "0fcac2df",
   "metadata": {},
   "outputs": [
    {
     "name": "stdout",
     "output_type": "stream",
     "text": [
      "Power=256\n"
     ]
    }
   ],
   "source": [
    "a=4\n",
    "b=4\n",
    "print(\"Power=\"+str(pow(a,b)))"
   ]
  },
  {
   "cell_type": "code",
   "execution_count": null,
   "id": "55e4766a",
   "metadata": {},
   "outputs": [],
   "source": []
  }
 ],
 "metadata": {
  "kernelspec": {
   "display_name": "Python 3 (ipykernel)",
   "language": "python",
   "name": "python3"
  },
  "language_info": {
   "codemirror_mode": {
    "name": "ipython",
    "version": 3
   },
   "file_extension": ".py",
   "mimetype": "text/x-python",
   "name": "python",
   "nbconvert_exporter": "python",
   "pygments_lexer": "ipython3",
   "version": "3.9.12"
  }
 },
 "nbformat": 4,
 "nbformat_minor": 5
}
