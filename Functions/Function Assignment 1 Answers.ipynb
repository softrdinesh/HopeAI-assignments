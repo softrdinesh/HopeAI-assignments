{
 "cells": [
  {
   "cell_type": "code",
   "execution_count": 8,
   "id": "3d17cbf4",
   "metadata": {},
   "outputs": [
    {
     "name": "stdout",
     "output_type": "stream",
     "text": [
      "Sub-fields in AI are:\n",
      "Machine Learning\n",
      "Neural Networks\n",
      "Vision\n",
      "Robotics\n",
      "Speech Processing\n",
      "Natural Language Processing\n"
     ]
    }
   ],
   "source": [
    "fields=[\"Machine Learning\",\"Neural Networks\",\"Vision\",\"Robotics\",\"Speech Processing\",\"Natural Language Processing\"]\n",
    "print(\"Sub-fields in AI are:\")\n",
    "Subfields()    \n"
   ]
  },
  {
   "cell_type": "code",
   "execution_count": 7,
   "id": "aaed8f71",
   "metadata": {},
   "outputs": [],
   "source": [
    "def Subfields():\n",
    "    for temp in fields:\n",
    "        print(temp)"
   ]
  },
  {
   "cell_type": "code",
   "execution_count": 10,
   "id": "7e14c2f3",
   "metadata": {},
   "outputs": [],
   "source": [
    "def OddEven(num):\n",
    "    if(num%2==0):\n",
    "        return str(num)+\" is Even number\"\n",
    "    else:\n",
    "        return str(num)+\" is Odd number\""
   ]
  },
  {
   "cell_type": "code",
   "execution_count": 12,
   "id": "d861959d",
   "metadata": {},
   "outputs": [
    {
     "name": "stdout",
     "output_type": "stream",
     "text": [
      "Enter a number107\n",
      "107 is Odd number\n"
     ]
    }
   ],
   "source": [
    "print(OddEven(int(input(\"Enter a number\"))))"
   ]
  },
  {
   "cell_type": "code",
   "execution_count": 25,
   "id": "06da8ebe",
   "metadata": {},
   "outputs": [],
   "source": [
    "def Eligible(gender,age):\n",
    "    if((gender.upper()==\"MALE\" and age>=21) or(gender.upper()==\"FEMALE\" and age>=18)):\n",
    "       return \"Eligible\"\n",
    "    else:\n",
    "        return \"Not Eligible\"\n",
    "        \n",
    "   \n",
    "        \n",
    "    "
   ]
  },
  {
   "cell_type": "code",
   "execution_count": 26,
   "id": "764be72a",
   "metadata": {},
   "outputs": [
    {
     "name": "stdout",
     "output_type": "stream",
     "text": [
      "Your Genderfemale\n",
      "your age:17\n",
      "Not Eligible\n"
     ]
    }
   ],
   "source": [
    "print(Eligible(input(\"Your Gender\"),int(input(\"your age:\"))))"
   ]
  },
  {
   "cell_type": "code",
   "execution_count": 54,
   "id": "d69b19a9",
   "metadata": {},
   "outputs": [],
   "source": [
    "def percentage(lst):\n",
    "    \n",
    "    total=0\n",
    "    for temp in lst:\n",
    "        total=total+temp\n",
    "    \n",
    "    return total\n",
    "    \n",
    "        \n",
    "    "
   ]
  },
  {
   "cell_type": "code",
   "execution_count": 59,
   "id": "1a9e0d0a",
   "metadata": {},
   "outputs": [
    {
     "name": "stdout",
     "output_type": "stream",
     "text": [
      "Enter the subject1:98\n",
      "Enter the subject2:87\n",
      "Enter the subject3:95\n",
      "Enter the subject4:95\n",
      "Enter the subject5:93\n",
      "Total:468\n",
      "Percentage:93.60000000000001\n"
     ]
    }
   ],
   "source": [
    "\n",
    "#percentage((int)input(\"Enter subject1:\"))\n",
    "data = []\n",
    "for i in range(0, 5):\n",
    "    x = int(input('Enter the subject'+str(i+1)+':'))\n",
    "    data.append(x)\n",
    "totalvalue=percentage(data)\n",
    "print(\"Total:\"+str(totalvalue))\n",
    "print(\"Percentage:\"+str((totalvalue/500)*100))"
   ]
  },
  {
   "cell_type": "code",
   "execution_count": 10,
   "id": "7e01de18",
   "metadata": {},
   "outputs": [],
   "source": [
    "def trianglearea(height,breadth):\n",
    "    return (height*breadth)/2\n",
    "    "
   ]
  },
  {
   "cell_type": "code",
   "execution_count": 26,
   "id": "0878e59c",
   "metadata": {},
   "outputs": [],
   "source": [
    "def TriangePermeter(height1,height2,breadth):\n",
    "    return (height1+height2+breadth)"
   ]
  },
  {
   "cell_type": "code",
   "execution_count": 24,
   "id": "cfc17093",
   "metadata": {},
   "outputs": [
    {
     "name": "stdout",
     "output_type": "stream",
     "text": [
      "Enter height:45\n",
      "Enter Breadth:25\n",
      "Area of triangle:562.5\n"
     ]
    }
   ],
   "source": [
    "height=float(input(\"Enter height:\"))\n",
    "breadth=float(input(\"Enter Breadth:\"))\n",
    "print(\"Area of triangle:\"+str(trianglearea(height,breadth)))\n"
   ]
  },
  {
   "cell_type": "code",
   "execution_count": 31,
   "id": "c0a2c336",
   "metadata": {},
   "outputs": [
    {
     "name": "stdout",
     "output_type": "stream",
     "text": [
      "Enter height1:4\n",
      "Enter height2:4\n",
      "Enter Breadth:2\n",
      "Perimeter of triangle:10.0\n"
     ]
    }
   ],
   "source": [
    "height1=float(input(\"Enter height1:\"))\n",
    "height2=float(input(\"Enter height2:\"))\n",
    "breadth1=float(input(\"Enter Breadth:\"))\n",
    "print(\"Perimeter of triangle:\"+str(TriangePermeter(height1,height2,breadth1)))"
   ]
  },
  {
   "cell_type": "code",
   "execution_count": null,
   "id": "84679a5a",
   "metadata": {},
   "outputs": [],
   "source": []
  },
  {
   "cell_type": "code",
   "execution_count": null,
   "id": "a5552bf1",
   "metadata": {},
   "outputs": [],
   "source": []
  }
 ],
 "metadata": {
  "kernelspec": {
   "display_name": "Python 3 (ipykernel)",
   "language": "python",
   "name": "python3"
  },
  "language_info": {
   "codemirror_mode": {
    "name": "ipython",
    "version": 3
   },
   "file_extension": ".py",
   "mimetype": "text/x-python",
   "name": "python",
   "nbconvert_exporter": "python",
   "pygments_lexer": "ipython3",
   "version": "3.9.12"
  }
 },
 "nbformat": 4,
 "nbformat_minor": 5
}
